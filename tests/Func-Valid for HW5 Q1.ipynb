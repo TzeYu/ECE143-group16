{
 "cells": [
  {
   "cell_type": "markdown",
   "metadata": {},
   "source": [
    "# Question 1 [get_sample]\n",
    "\n",
    "Given a number of bits, write the get_sample function to return a list n of random samples from a finite probability mass function defined by a dictionary with keys defined by a specified number of bits. For example, given 3 bits, we have the following dictionary that defines the probability of each of the keys. The values of the dictionary correspond of the probability of drawing any one of these. For example, if all of these were equally likely, then here is the corresponding dictionary p,\n",
    "\n",
    " p={'000': 0.125, \n",
    " '001': 0.125, \n",
    " '010': 0.125, \n",
    " '011': 0.125, \n",
    " '100': 0.125, \n",
    " '101': 0.125, \n",
    " '110': 0.125, \n",
    " '111': 0.125} \n",
    " \n",
    "Your get_sample function should return something like the following,\n",
    "\n",
    " >>> get_sample(nbits=3,prob=p,n=4)\n",
    "['101', '000', '001', '100'] \n",
    "Hint: Validate your inputs thoroughly.\n",
    "\n",
    "Function signature: get_sample(nbits=3,prob=None,n=1). Keep the default values as given in the function signature."
   ]
  },
  {
   "cell_type": "markdown",
   "metadata": {},
   "source": [
    "**Validation Tests** <br>\n",
    "Check for corner cases and constraints in the inputs enlist all cases used for testing"
   ]
  },
  {
   "cell_type": "code",
   "execution_count": null,
   "metadata": {},
   "outputs": [],
   "source": [
    "import itertools\n",
    "\n",
    "assert isinstance(nbits, int), \"nbits must be an integer\"\n",
    "assert isinstance(n, int), \"n must be an integer\"\n",
    "assert nbits > 0, \"nbits must be greater than 0\"\n",
    "assert n > 0, \"n must be greater than 0\"\n",
    "\n",
    "binary_generator = itertools.product(['0', '1'], repeat = nbits)\n",
    "binary_generator = [''.join(i) for i in binary_generator]\n",
    "\n",
    "assert isinstance(prob, dict), \"if prob is not none: prob must be dict\"\n",
    "assert len(prob.keys()) == 2**nbits, \"if prob is not none: prob keys must has length of 2^number of bits\"\n",
    "assert all([isinstance(i, float) or isinstance(i, int) for i in list(prob.values())]), \"if prob is not none: prob values must be integer of float type\"\n",
    "assert all([0 <= i <= 1 for i in list(prob.values())]), \"if prob is non none: prob values must be between 0 and 1\"\n",
    "assert sum(prob.values()) == 1, \"if prob is not none: prob must be a valid pmf (i.e. sum probabilities = 1)\"\n",
    "assert list(prob.keys()) == binary_generator, \"if prob is not none: keys must be equal to the binary_generator\""
   ]
  },
  {
   "cell_type": "markdown",
   "metadata": {},
   "source": [
    "**Functional Tests** <br>\n",
    "Check function output matches expected result enlist all cases used for testing"
   ]
  },
  {
   "cell_type": "markdown",
   "metadata": {},
   "source": [
    "... Repeat above format for all questions in the assignment"
   ]
  },
  {
   "cell_type": "code",
   "execution_count": 59,
   "metadata": {},
   "outputs": [],
   "source": [
    "import itertools\n",
    "\n",
    "#input data: \n",
    "p1 = {'000': 0.125, '001': 0.125, '010': 0.125, '011': 0.125, '100': 0.125, '101': 0.125, '110': 0.125, '111': 0.125}\n",
    "n_bits1 = 3\n",
    "n_1 = 8\n",
    "\n",
    "binary_generator = itertools.product(['0', '1'], repeat = n_bits1)\n",
    "binary_generator = [''.join(i) for i in binary_generator]\n",
    "\n",
    "test_sample1 = get_sample(nbits = n_bits1, prob = p1, n = n_1)\n",
    "# test_sample1 = ['000', '001', '010', '011', '100', '101', '110', '111']\n",
    "\n",
    "assert isinstance(test_sample1, list), \"checking if type of the result of test sample 1 is a list\"\n",
    "assert len(test_sample1) == n_1, \"checking if length of results of test sample 1 is equal to the input n_1\"\n",
    "assert all(elem in binary_generator for elem in test_sample1), \"checking if elements in test sample 1 are contained in binary generator\""
   ]
  },
  {
   "cell_type": "code",
   "execution_count": 4,
   "metadata": {},
   "outputs": [],
   "source": [
    "import itertools\n",
    "\n",
    "#input data: \n",
    "p2 = {'00': 0.25, '01': 0.25, '10': 0.25, '11': 0.25}\n",
    "n_bits2 = 2\n",
    "n_2 = 3\n",
    "\n",
    "binary_generator = itertools.product(['0', '1'], repeat = n_bits2)\n",
    "binary_generator = [''.join(i) for i in binary_generator]\n",
    "\n",
    "# test_sample2 = get_sample(nbits = n_bits2, prob = p2, n = n_2)\n",
    "test_sample2 = ['00', '01', '11']\n",
    "\n",
    "assert isinstance(test_sample2, list), \"checking if type of the result of test sample 1 is a list\"\n",
    "assert len(test_sample2) == n_2, \"checking if length of results of test sample 1 is equal to the input n_1\"\n",
    "assert all(elem in binary_generator for elem in test_sample2), \"checking if elements in test sample 1 are contained in binary generator\""
   ]
  },
  {
   "cell_type": "code",
   "execution_count": 24,
   "metadata": {},
   "outputs": [],
   "source": [
    "import itertools\n",
    "\n",
    "#input data: \n",
    "p3 = {'0000': 0.0625, '0001': 0.0625, '0010': 0.0625, '0011': 0.0625, \n",
    "      '0100': 0.0625, '0101': 0.0625, '0110': 0.0625, '0111': 0.0625,\n",
    "      '1000': 0.0625, '1001': 0.0625, '1010': 0.0625, '1011': 0.0625,\n",
    "      '1100': 0.0625, '1101': 0.0625, '1110': 0.0625, '1111': 0.0625,}\n",
    "n_bits3 = 4\n",
    "n_3 = 2\n",
    "\n",
    "binary_generator = itertools.product(['0', '1'], repeat = n_bits3)\n",
    "binary_generator = [''.join(i) for i in binary_generator]\n",
    "\n",
    "test_sample3 = get_sample(nbits = n_bits3, prob = p3, n = n_3)\n",
    "# test_sample3 = ['0011', '1111']\n",
    "\n",
    "assert isinstance(test_sample3, list),\"checking if type of the result of test sample 1 is a list\"\n",
    "assert len(test_sample3) == n_3, \"checking if length of results of test sample 1 is equal to the input n_1\"\n",
    "assert all(elem in binary_generator for elem in test_sample3), \"checking if elements in test sample 1 are contained in binary generator\""
   ]
  }
 ],
 "metadata": {
  "kernelspec": {
   "display_name": "Python 3",
   "language": "python",
   "name": "python3"
  },
  "language_info": {
   "codemirror_mode": {
    "name": "ipython",
    "version": 3
   },
   "file_extension": ".py",
   "mimetype": "text/x-python",
   "name": "python",
   "nbconvert_exporter": "python",
   "pygments_lexer": "ipython3",
   "version": "3.7.6"
  }
 },
 "nbformat": 4,
 "nbformat_minor": 4
}
