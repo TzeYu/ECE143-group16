{
 "cells": [
  {
   "cell_type": "markdown",
   "metadata": {},
   "source": [
    "# EXAMPLE"
   ]
  },
  {
   "cell_type": "markdown",
   "metadata": {},
   "source": [
    "# Question 0 [Copy the question here]\n",
    "Given the following string\n",
    "\n",
    "\"\"\"Mary had a little lamb\n",
    "its fleece was white as snow\n",
    "and everywhere that Mary went\n",
    "the lamb was sure to go\"\"\"\n",
    "\n",
    "1. Write a `compute_average_word_length` function to compute the average length of the words in this string.\n",
    "2. Supply an option to your function to exclude redundancies in the words, re-compute the average length of the words.\n",
    "\n",
    "\n",
    "For 2 above, you want to remove repeated words. For instance, one,two,three,two after removing the redundancies becomes one,two,three. The words are case-sensitive.\n",
    "\n",
    "Function signature: compute_average_word_length(instring,unique=False)\n",
    "\n",
    "Where instring is the string we'll be computing on. Unique determines whether or not we want to include duplicates. If unique=False we include duplicates, if unique=True then we do not count duplicates."
   ]
  },
  {
   "cell_type": "markdown",
   "metadata": {},
   "source": [
    "**Validation Tests** <br>\n",
    "Check for corner cases and constraints in the inputs enlist all cases used for testing"
   ]
  },
  {
   "cell_type": "code",
   "execution_count": null,
   "metadata": {},
   "outputs": [],
   "source": [
    "assert (instring, str), \"instring must be an integer\"\n",
    "assert (unique, bool), \"unique must be a Boolean\"\n",
    "# Add additional tests here"
   ]
  },
  {
   "cell_type": "markdown",
   "metadata": {},
   "source": [
    "**Functional Tests** <br>\n",
    "Check function output matches expected result enlist all cases used for testing"
   ]
  },
  {
   "cell_type": "code",
   "execution_count": null,
   "metadata": {},
   "outputs": [],
   "source": [
    "data = \"\"\"Mary had a little lamb its fleece was white as snow and everywhere that Mary went the lamb was sure to go\"\"\"\n",
    "assert 3.818==compute_average_word_length(data), \"checking for unique=False\""
   ]
  },
  {
   "cell_type": "code",
   "execution_count": null,
   "metadata": {},
   "outputs": [],
   "source": [
    "data = \"\"\"Mary had a little lamb its fleece was white as snow and everywhere that Mary went the lamb was sure to go\"\"\"\n",
    "assert 3.8421 ==compute_average_word_length(data), \"checking for unique=True\""
   ]
  },
  {
   "cell_type": "markdown",
   "metadata": {},
   "source": [
    "# Question 1: Sample Bitstrings Part 1\n",
    "Given a number of bits, write the get_sample function to return a list n of random samples from a finite probability mass function defined by a dictionary with keys defined by a specified number of bits. For example, given 3 bits, we have the following dictionary that defines the probability of each of the keys. The values of the dictionary correspond of the probability of drawing any one of these. For example, if all of these were equally likely, then here is the corresponding dictionary p,\n",
    "\n",
    " p={'000': 0.125, \n",
    " '001': 0.125, \n",
    " '010': 0.125, \n",
    " '011': 0.125, \n",
    " '100': 0.125, \n",
    " '101': 0.125, \n",
    " '110': 0.125, \n",
    " '111': 0.125} \n",
    " \n",
    " Function signature: get_sample(nbits=3,prob=None,n=1)"
   ]
  },
  {
   "cell_type": "markdown",
   "metadata": {},
   "source": [
    "**Validation Tests** <br>\n",
    "Check for corner cases and constraints in the inputs enlist all cases used for testing"
   ]
  },
  {
   "cell_type": "code",
   "execution_count": null,
   "metadata": {},
   "outputs": [],
   "source": []
  },
  {
   "cell_type": "markdown",
   "metadata": {},
   "source": [
    "**Functional Tests** <br>\n",
    "Check function output matches expected result enlist all cases used for testing"
   ]
  },
  {
   "cell_type": "code",
   "execution_count": null,
   "metadata": {},
   "outputs": [],
   "source": []
  },
  {
   "cell_type": "markdown",
   "metadata": {},
   "source": [
    "# Question 2: Sample Bitstrings Part 2\n",
    "Write a function map_bitstring that takes a list of bitstrings (i.e., 0101) and maps each bitstring to 0 if the number of 0s in the bitstring strictly exceeds the number of 1s. Otherwise, map that bitstring to 1. The output of your function is a dictionary of the so-described key-value pairs.\n",
    "\n"
   ]
  },
  {
   "cell_type": "markdown",
   "metadata": {},
   "source": [
    "**Validation Tests** <br>\n",
    "Check for corner cases and constraints in the inputs enlist all cases used for testing"
   ]
  },
  {
   "cell_type": "code",
   "execution_count": null,
   "metadata": {},
   "outputs": [],
   "source": []
  },
  {
   "cell_type": "markdown",
   "metadata": {},
   "source": [
    "**Functional Tests** <br>\n",
    "Check function output matches expected result enlist all cases used for testing"
   ]
  },
  {
   "cell_type": "code",
   "execution_count": null,
   "metadata": {},
   "outputs": [],
   "source": []
  },
  {
   "cell_type": "markdown",
   "metadata": {},
   "source": [
    "# Question 3: Sample Bitstrings Part 3\n",
    "Now that you have get_sample working, generate n samples and tally the number of times an existing key is repeated. Generate a new dictionary with bitstrings as keys and with values as lists that contain the corresponding mapped values from map_bitstring.\n",
    "\n",
    "Function signature: gather_values(values)"
   ]
  },
  {
   "cell_type": "markdown",
   "metadata": {},
   "source": [
    "**Validation Tests** <br>\n",
    "Check for corner cases and constraints in the inputs enlist all cases used for testing"
   ]
  },
  {
   "cell_type": "code",
   "execution_count": null,
   "metadata": {},
   "outputs": [],
   "source": [
    "assert isinstance(values, list), \"values must be a list\"\n",
    "for val in values: #\"validating contents of list values\"\n",
    "    assert isinstance(val, str), \"all items inside list values must be a str\"\n",
    "    assert all(char=='0' or char=='1' for char in val), \"all items inside list values must be a bitstring\""
   ]
  },
  {
   "cell_type": "markdown",
   "metadata": {},
   "source": [
    "**Functional Tests** <br>\n",
    "Check function output matches expected result enlist all cases used for testing"
   ]
  },
  {
   "cell_type": "code",
   "execution_count": null,
   "metadata": {},
   "outputs": [],
   "source": [
    "data = ['101','000','111','101','000','110','111','101']\n",
    "assert {'101':[1,1,1],'000':[0,0],'111':[1,1],'110':[1]}==gather_values(data), \"checking standard validity\""
   ]
  },
  {
   "cell_type": "code",
   "execution_count": null,
   "metadata": {},
   "outputs": [],
   "source": [
    "data = []\n",
    "assert {}==gather_values(data), \"checking empty case\""
   ]
  },
  {
   "cell_type": "code",
   "execution_count": null,
   "metadata": {},
   "outputs": [],
   "source": [
    "data = ['11','00','11','10','10','11','11','00','11','10','11','00','11','11','11','11','11','11']\n",
    "assert {'11': [1,1,1,1,1,1,1,1,1,1,1,1], '00':[0,0,0], '10':[1,1,1]}==gather_values(data), \"checking 2 bit validity\""
   ]
  },
  {
   "cell_type": "markdown",
   "metadata": {},
   "source": [
    "# Question 4: Sample Bitstrings Part 4(Threshold sample counts)\n",
    "From gather_values, we can group the results of the random samples. Now, we want to threshold those values based upon their frequency and value. Given threshold=2, we want to keep only those bitstrings with the two highest frequency counts of the 1 value. For example, as before we have,\n",
    "\n",
    "x=['10', '11', '01', '00', '10', '00', '00', '11', '10', '00', '00', '01', '01', '11', '10', '00', '11', '10', '11', '11']\n",
    "\n",
    "according to our last result, we had\n",
    "\n",
    "{'10': [1, 1, 1, 1, 1],    \n",
    "'11': [1, 1, 1, 1, 1, 1],  \n",
    " '01': [1, 1, 1],  \n",
    "'00': [0, 0, 0, 0, 0, 0]}  \n",
    " \n",
    "But because the threshold=2, we only want to keep the bitstrings with the two most frequent 1s and set all of the rest to 0. In this case, this is 10 and 11 with the following output:\n",
    "\n",
    "{'10': 1,                                  \n",
    "'11': 1,  \n",
    "  '01': 0,  \n",
    " '00': 0}  \n",
    " \n",
    "Note that 01 corresponding value was set to 0 because it did not have the top two most frequent values of 1. If there is a tie, then use the smallest value the tied bitstrings to pick the winner.\n",
    "\n",
    "Function signature: threshold_values(seq,threshold=1)"
   ]
  },
  {
   "cell_type": "markdown",
   "metadata": {},
   "source": [
    "**Validation Tests** <br>\n",
    "Check for corner cases and constraints in the inputs enlist all cases used for testing"
   ]
  },
  {
   "cell_type": "code",
   "execution_count": null,
   "metadata": {},
   "outputs": [],
   "source": []
  },
  {
   "cell_type": "markdown",
   "metadata": {},
   "source": [
    "**Functional Tests** <br>\n",
    "Check function output matches expected result enlist all cases used for testing"
   ]
  },
  {
   "cell_type": "code",
   "execution_count": null,
   "metadata": {},
   "outputs": [],
   "source": []
  },
  {
   "cell_type": "markdown",
   "metadata": {},
   "source": [
    "# Question 5: Sequential Descrambler\n",
    "You are given a sequence of n lower-case letters and a k-tuple of integers that indicate partition-lengths of the sequence. Also, you have a dictionary of commonly used words. The n letters represent a phrase of k words where the length of the \n",
    "j\n",
    "t\n",
    "h\n",
    " word is the \n",
    "j\n",
    "t\n",
    "h\n",
    " element of the tuple.\n",
    "\n",
    "Here is an example: w = 'trleeohelh' , k=(5,5). Your generator descrambler(w,k) should iteratively yield the output ['hello three','three hello','hello there','there hello']. Note that because both words have 5 characters, it is not possible to definitively know the order of the phrase."
   ]
  },
  {
   "cell_type": "markdown",
   "metadata": {},
   "source": [
    "**Validation Tests** <br>\n",
    "Check for corner cases and constraints in the inputs enlist all cases used for testing"
   ]
  },
  {
   "cell_type": "code",
   "execution_count": null,
   "metadata": {},
   "outputs": [],
   "source": []
  },
  {
   "cell_type": "markdown",
   "metadata": {},
   "source": [
    "**Functional Tests** <br>\n",
    "Check function output matches expected result enlist all cases used for testing"
   ]
  },
  {
   "cell_type": "code",
   "execution_count": null,
   "metadata": {},
   "outputs": [],
   "source": []
  }
 ],
 "metadata": {
  "kernelspec": {
   "display_name": "Python 3",
   "language": "python",
   "name": "python3"
  },
  "language_info": {
   "codemirror_mode": {
    "name": "ipython",
    "version": 3
   },
   "file_extension": ".py",
   "mimetype": "text/x-python",
   "name": "python",
   "nbconvert_exporter": "python",
   "pygments_lexer": "ipython3",
   "version": "3.8.5"
  }
 },
 "nbformat": 4,
 "nbformat_minor": 4
}
